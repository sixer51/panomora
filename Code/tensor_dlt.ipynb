{
 "cells": [
  {
   "cell_type": "code",
   "execution_count": 2,
   "metadata": {},
   "outputs": [],
   "source": [
    "import numpy as np\n",
    "import cv2\n",
    "import random\n",
    "import matplotlib.pyplot as plt\n",
    "import copy"
   ]
  },
  {
   "cell_type": "code",
   "execution_count": 16,
   "metadata": {},
   "outputs": [
    {
     "name": "stdout",
     "output_type": "stream",
     "text": [
      "[[222.  36.]\n",
      " [350.  36.]\n",
      " [222. 164.]\n",
      " [350. 164.]]\n",
      "[[202.  19.]\n",
      " [330.  39.]\n",
      " [225. 141.]\n",
      " [368. 192.]]\n",
      "[[ 3.93902357e-01  6.08513876e-02  6.16988514e+01]\n",
      " [ 7.50722933e-02  6.67841029e-01 -2.64737684e+01]\n",
      " [-1.07662089e-03 -3.27858652e-04  1.00000000e+00]]\n"
     ]
    }
   ],
   "source": [
    "patchSize = 128\n",
    "imgWidth = 400\n",
    "imgHeight = 300\n",
    "pertubation = 32\n",
    "\n",
    "maxWidth = imgWidth - patchSize\n",
    "maxHeight = imgHeight - patchSize\n",
    "widthOrigin = random.randint(0, maxWidth)\n",
    "heightOrigin = random.randint(0, maxHeight)\n",
    "\n",
    "topLeft = (widthOrigin, heightOrigin)\n",
    "topRight = (widthOrigin + patchSize, heightOrigin)\n",
    "bottomLeft = (widthOrigin, heightOrigin + patchSize)\n",
    "bottomRight = (widthOrigin + patchSize, heightOrigin + patchSize)\n",
    "corners = [topLeft, topRight, bottomLeft, bottomRight]\n",
    "\n",
    "pertubratedCorners = []\n",
    "for corner in corners:\n",
    "    x = min(imgWidth, max(0, corner[0] + random.randint(-pertubation, pertubation)))\n",
    "    y = min(imgHeight, max(0, corner[1] + random.randint(-pertubation, pertubation)))\n",
    "    pertubratedCorner = (x, y)\n",
    "    pertubratedCorners.append(pertubratedCorner)\n",
    "corners = np.float32(corners)\n",
    "pertubratedCorners = np.float32(pertubratedCorners)\n",
    "\n",
    "M = cv2.getPerspectiveTransform(corners, pertubratedCorners)\n",
    "print(corners)\n",
    "print(pertubratedCorners)\n",
    "print(M)\n",
    "Minv = np.linalg.inv(M)\n",
    "\n",
    "H4Pt = pertubratedCorners - corners\n",
    "H4Pt = np.reshape(H4Pt, 8)"
   ]
  },
  {
   "cell_type": "code",
   "execution_count": 21,
   "metadata": {},
   "outputs": [
    {
     "name": "stdout",
     "output_type": "stream",
     "text": [
      "[[ 3.93902357e-01  6.08513876e-02  6.16988514e+01]\n",
      " [ 7.50722933e-02  6.67841029e-01 -2.64737684e+01]\n",
      " [-1.07662089e-03 -3.27858652e-04  1.00000000e+00]]\n",
      "[[ 3.93902357e-01  6.08513876e-02  6.16988514e+01]\n",
      " [ 7.50722933e-02  6.67841029e-01 -2.64737684e+01]\n",
      " [-1.07662089e-03 -3.27858652e-04  1.00000000e+00]]\n",
      "[[ 1.80905291e-12 -4.17129525e-12 -1.47160506e-10]\n",
      " [ 1.13395404e-13 -9.64450741e-13  1.16173737e-12]\n",
      " [ 4.82708491e-15 -1.52945148e-14  0.00000000e+00]]\n"
     ]
    }
   ],
   "source": [
    "# input: corner A, predicted H4pt\n",
    "# output: Homography\n",
    "\n",
    "predH4Pt = copy.copy(H4Pt)\n",
    "\n",
    "cornersA = np.reshape(corners, 8)\n",
    "cornersB = cornersA + predH4Pt\n",
    "\n",
    "b = np.zeros(8)\n",
    "A = np.zeros((8, 8))\n",
    "for i in range(4):\n",
    "    b[2 * i] = -cornersB[2 * i + 1]\n",
    "    b[2 * i + 1] = cornersB[2 * i]\n",
    "\n",
    "    A[2 * i, 0:3] = np.zeros(3)\n",
    "    A[2 * i + 1, 3:6] = np.zeros(3)\n",
    "    A[2 * i, 3:6] = np.array([-cornersA[2 * i], -cornersA[2 * i + 1], -1])\n",
    "    A[2 * i + 1, 0:3] = np.array([cornersA[2 * i], cornersA[2 * i + 1], 1])\n",
    "    A[2 * i, 6:8] = np.array([cornersB[2 * i + 1] * cornersA[2 * i],\n",
    "                              cornersB[2 * i + 1] * cornersA[2 * i + 1]])\n",
    "    A[2 * i + 1, 6:8] = np.array([-cornersB[2 * i] * cornersA[2 * i],\n",
    "                                  -cornersB[2 * i] * cornersA[2 * i + 1]])\n",
    "\n",
    "Ainv = np.linalg.pinv(A)\n",
    "h8 = np.matmul(Ainv, b)\n",
    "\n",
    "H = np.concatenate((h8, np.ones(1)))\n",
    "H = np.reshape(H, (3, 3))\n",
    "\n",
    "print(H)\n",
    "print(M)\n",
    "print(H - M)\n"
   ]
  }
 ],
 "metadata": {
  "kernelspec": {
   "display_name": "Python 3",
   "language": "python",
   "name": "python3"
  },
  "language_info": {
   "codemirror_mode": {
    "name": "ipython",
    "version": 3
   },
   "file_extension": ".py",
   "mimetype": "text/x-python",
   "name": "python",
   "nbconvert_exporter": "python",
   "pygments_lexer": "ipython3",
   "version": "3.10.9"
  },
  "orig_nbformat": 4,
  "vscode": {
   "interpreter": {
    "hash": "4cc03ccf11c532e4cf2f03727ebb37aea2b981c03b7ed3278cc4f5940bc80fc5"
   }
  }
 },
 "nbformat": 4,
 "nbformat_minor": 2
}
